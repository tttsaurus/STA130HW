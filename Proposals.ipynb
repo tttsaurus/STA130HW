{
 "cells": [
  {
   "cell_type": "markdown",
   "metadata": {},
   "source": [
    "# Proposal 1\n",
    "\n",
    "## Research Question\n",
    "\"Is there a linear association between the age and survival status among passengers on the Titanic?\" (dataset from [Kaggle](https://www.kaggle.com/competitions/titanic))\n",
    "\n",
    "## Variables\n",
    "- Age (_continuous_)\n",
    "  - How to explore: \n",
    "    - Calculate mean, median, and standard deviation for each survival group (survived or not survived)\n",
    "    - Apply Simple Linear Regression model to `Age` and `Survived` with an indicator variable since `Survived` is a binary variable\n",
    "  - Visualizations:\n",
    "    - Histogram of `Age` for each survival group. Justification: the histogram describes the overall distribution so we can have a basic idea of a certain age range that associates to survival status\n",
    "    - Box Plot of `Age` for each survival group. Justification: the box plot clearly shows the interquartile range that associates to survival status. Moreover, we can have the both box plot on the same graph where x-axis represents `Survived` and y-axis represents `Age`, which provides more insights\n",
    "    - Scatter Plot of `Age` against `Survived` with regression lines. Justification: it provides a nice overview since we can see each data point and the overall shape\n",
    "  - Reason to choose: `Age` is an interesting demographic feature that associates to many other outcomes\n",
    "- Survived (_binary_)\n",
    "  - How to explore:\n",
    "    - Apply Simple Linear Regression model to `Survived` and `Age` as mentioned\n",
    "  - Visualizations:\n",
    "    - Histogram of `Survived`. Justification: we can have an overview of survival status\n",
    "    - Scatter Plot of `Survived` against `Age` with regression lines as mentioned. Justification: it provides a nice overview\n",
    "  - Reason to choose: `Survived` is the major outcome in the Titanic dataset\n",
    "\n",
    "## Analysis\n",
    "I plan to apply Simple Linear Regression Model to analyze the potential linear association between `Age` and `Survived`. Specifically, I will separate `Age` into two groups like `Age < 18 or Age > 50` as `Group1` and `Age ≥ 18 and Age ≤ 50` as `Group2`, and my linear regression model will be like $Y_i=β_0+1_{[\"Group2\"]}(k_i)*β_1+ε_i$ (`Survived` stands for `Y` and `Age` which is `Group1` and `Group2` stands for the indicator variable `k`). For the hypothesis testing, it will be like $H_0$: $|β_1|$=0 (no linear association: about the same survival rate for each group), $H_1$: $|β_1|$>0 (`Group2` has a higher survival rate than `Group1`).\n",
    "\n",
    "## Hypothesis\n",
    "I assume we will probably have enough evidence to reject $H_0$, which implies that there is a linear association between `Age` and `Survived`. Moreover, `Group1` will probably have a lower survival rate but `Group2` has a higher one, which is a phenomenon under $H_1$.\n",
    "\n",
    "***"
   ]
  },
  {
   "cell_type": "markdown",
   "metadata": {},
   "source": [
    "# Proposal 2\n",
    "\n",
    "## Research Question\n",
    "\"Is there a significant trend in global temperatures over the past century?\" (dataset from [Berkeley Earth](https://berkeleyearth.org/data/))\n",
    "\n",
    "## Variables\n",
    "- Temperature (_continuous_)\n",
    "  - How to explore:\n",
    "    - Apply Simple Linear Regression model to `Temperature` and `Year`\n",
    "  - Visualizations:\n",
    "    - Scatter Plot of `Temperature` against `Year` with both LOWESS and linear regression trend line. Justification: it provides a nice overview since we can see each data point, local trend, and overall trend\n",
    "  - Reason to choose: `Temperature` is such a vital global parameter\n",
    "- Year (_continuous_)\n",
    "  - `Year` is more like an auxiliary variable and everything related it is described in the `Temperature`'s section\n",
    "\n",
    "## Analysis\n",
    "I plan to apply Simple Linear Regression Model to analyze the potential linear association between `Temperature` and `Year`. Specifically, I will use the classic linear regression model $Y_i=β_0+β_1*x_i+ε_i$ (`Temperature` stands for `Y` and `Year` stands for `x`) and the hypotheses are like $H_0$: $|β_1|$=0 (no linear association: `Temperature` isn't associate to time), $H_1$: $|β_1|$>0 (`Temperature` is increasing over time).\n",
    "\n",
    "## Hypothesis\n",
    "I assume we will probably have enough evidence to reject $H_0$, which implies that `Temperature` increases over the past century as what media reported.\n",
    "\n",
    "***"
   ]
  },
  {
   "cell_type": "markdown",
   "metadata": {},
   "source": [
    "# Proposal 3\n",
    "\n",
    "## Research Question\n",
    "\"How do `Sepal Length` and `Sepal Width` of the Iris flowers, relate to the different `Species` of Iris (Setosa, Versicolor, Virginica) present in the dataset?\" (dataset from [UCI Machine Learning Repo](https://archive.ics.uci.edu/dataset/53/iris))\n",
    "\n",
    "## Variables\n",
    "- Sepal Length (_continuous_)\n",
    "  - How to explore:\n",
    "    - Calculate mean, median, and standard deviation for each category (Setosa, Versicolor, Virginica)\n",
    "  - Visualizations:\n",
    "    - Scatter Plot of `Sepal Length` against `Sepal Width` with a trend line for each category. Justification: it will help us identify any clustering or patterns of data points\n",
    "    - Box Plot of `Sepal Length` for each category. Justification: it will help us to understand how data distribute roughly by having the interquarter range and other properties displayed. Moreover, we can have all three box plots on the same graph where x-axis represents the category, which provides more insights by comparison\n",
    "  - Reason to choose:\n",
    "    - `Sepal Length` is a primary distinguishing feature among different species of Iris\n",
    "- Sepal Width (_continuous_)\n",
    "  - Everything here is similar to `Sepal Length`'s section so I will not repeat\n",
    "- Species (_categorical_)\n",
    "  - `Species` is more like an auxiliary variable and everything related it is described in the `Species`'s section\n",
    "\n",
    "## Analysis\n",
    "I plan to calculate all the important parameters, like mean, median, and standard deviation, of `Sepal Length` and `Sepal Width` for each Iris species; then draw some qualitative conclusions about the shapes of each Iris species.\n",
    "\n",
    "## Hypothesis\n",
    "I have no idea what my conclusions will be since they really depend on the calculated parameters.\n"
   ]
  }
 ],
 "metadata": {
  "language_info": {
   "name": "python"
  }
 },
 "nbformat": 4,
 "nbformat_minor": 2
}
