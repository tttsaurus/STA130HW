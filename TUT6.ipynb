{
 "cells": [
  {
   "cell_type": "markdown",
   "metadata": {},
   "source": [
    "# STA130 TUT 06 Summary: Hypothesis Testing and Confidence Intervals\n",
    "\n",
    "## Key Concepts\n",
    "\n",
    "### Hypothesis Testing\n",
    "1. **Purpose**: To determine whether there is enough evidence to support a specific claim about a population parameter.\n",
    "2. **Null Hypothesis ($H_0$)**: Represents the default assumption or no effect/difference.\n",
    "3. **Alternative Hypothesis ($H_1$)**: Represents the claim we are testing for.\n",
    "4. **Test Statistics**:\n",
    "   - Calculated from the sample data.\n",
    "   - Compared against a critical value to make decisions.\n",
    "5. **P-Value**:\n",
    "   - The probability of observing the test statistic (or something more extreme) under $H_0$.\n",
    "   - A small p-value ($< \\alpha$) suggests evidence against $H_0$.\n",
    "\n",
    "### Confidence Intervals\n",
    "1. **Definition**: A range of values within which the true population parameter is expected to lie with a certain level of confidence.\n",
    "2. **Purpose**: Complements hypothesis testing by providing plausible values for the parameter.\n",
    "3. **Key Properties**:\n",
    "   - A wider interval implies more uncertainty.\n",
    "   - The confidence level (e.g., 95%) reflects the proportion of intervals expected to contain the parameter in repeated sampling.\n",
    "\n",
    "## Practical Insights\n",
    "- Hypothesis testing and confidence intervals are tools to evaluate claims about a population.\n",
    "- Statistical significance (p-value or confidence interval) does not equate to practical importance.\n",
    "- Results must be interpreted in the context of the problem and underlying assumptions.\n"
   ]
  }
 ],
 "metadata": {
  "language_info": {
   "name": "python"
  }
 },
 "nbformat": 4,
 "nbformat_minor": 2
}
